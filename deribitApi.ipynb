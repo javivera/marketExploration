{
 "cells": [
  {
   "cell_type": "markdown",
   "metadata": {},
   "source": [
    "# Deribit Api Management"
   ]
  },
  {
   "cell_type": "markdown",
   "metadata": {},
   "source": [
    "## Api configuration"
   ]
  },
  {
   "cell_type": "code",
   "execution_count": 345,
   "metadata": {},
   "outputs": [],
   "source": [
    "import pprint\n",
    "import nest_asyncio\n",
    "import asyncio\n",
    "import websockets\n",
    "import json\n",
    "import pandas as pd\n",
    "import datetime as dt\n",
    "import time\n",
    "import datetime\n",
    "\n",
    "ACTUAL_TIME = round(time.time() * 1000) \n",
    "# End time is actual time\n",
    "\n",
    "nest_asyncio.apply()\n",
    "\n",
    "async def call_api(msg):\n",
    "   async with websockets.connect('wss://test.deribit.com/ws/api/v2') as websocket:\n",
    "       await websocket.send(msg)\n",
    "       while websocket.open:\n",
    "           response = await websocket.recv()\n",
    "           return response\n",
    "\n",
    "def async_loop(api, message):\n",
    "    return asyncio.get_event_loop().run_until_complete(api(message))\n"
   ]
  },
  {
   "cell_type": "markdown",
   "metadata": {},
   "source": [
    "## Simple api calls (getting information)"
   ]
  },
  {
   "cell_type": "code",
   "execution_count": 346,
   "metadata": {},
   "outputs": [],
   "source": [
    "def get_book_summary(instrument_name):\n",
    "    msg = \\\n",
    "    {\n",
    "        \"jsonrpc\" : \"2.0\",\n",
    "        \"id\" : 3659,\n",
    "        \"method\" : \"public/get_book_summary_by_instrument\",\n",
    "        \"params\" : {\n",
    "            \"instrument_name\" : instrument_name ,\n",
    "        }\n",
    "    }\n",
    "    resp = async_loop(call_api, json.dumps(msg))\n",
    "\n",
    "    return resp\n",
    "\n",
    "def getSummary (currency = 'BTC', type = 'option'):\n",
    "    msg = \\\n",
    "    {\n",
    "        \"jsonrpc\" : \"2.0\",\n",
    "        \"id\" : 9344,\n",
    "        \"method\" : \"public/get_book_summary_by_currency\",\n",
    "        \"params\" : {\n",
    "            \"currency\" : currency,\n",
    "            \"kind\" : type\n",
    "        }\n",
    "    }\n",
    "    resp = async_loop(call_api, json.dumps(msg))\n",
    "\n",
    "    return resp\n",
    "\n",
    "\n",
    "\n",
    "    \n",
    "def epochToDate(epoch):\n",
    "    return time.strftime('%d-%m-%Y %H:%M',time.localtime(epoch/1000))\n",
    "\n",
    "\n",
    "\n"
   ]
  },
  {
   "cell_type": "markdown",
   "metadata": {},
   "source": [
    "## Calling Api"
   ]
  },
  {
   "cell_type": "code",
   "execution_count": 347,
   "metadata": {},
   "outputs": [],
   "source": [
    "btc_instruments_json_resp = getSummary()\n",
    "eth_instruments_json_resp = getSummary('ETH')"
   ]
  },
  {
   "cell_type": "markdown",
   "metadata": {},
   "source": [
    "## Cleaning data"
   ]
  },
  {
   "cell_type": "code",
   "execution_count": 348,
   "metadata": {},
   "outputs": [],
   "source": [
    "def jsonToDataFrame(json_resp):\n",
    "    res = json.loads(json_resp)\n",
    "\n",
    "    df = pd.DataFrame(res['result'])\n",
    "\n",
    "    return df\n",
    "    \n",
    "def historyCleaning(json_resp , drop = False):\n",
    "    res = json.loads(json_resp)\n",
    "\n",
    "    df = pd.DataFrame(res['result'])\n",
    "\n",
    "    df['ticks'] = df.ticks / 1000\n",
    "    # df['timestamp'] = [dt.datetime.fromtimestamp(date) for date in df.ticks]\n",
    "    if drop == True:\n",
    "        df = df[df.volume != 0]\n",
    "\n",
    "    return df\n",
    "\n",
    "def dateConverter(date):\n",
    "    dict = {\n",
    "        'JAN' : 1 ,\n",
    "        'FEB' : 2 ,\n",
    "        'MAR' : 3 ,\n",
    "        'APR' : 4 ,\n",
    "        'MAY' : 5 ,\n",
    "        'JUN' : 6 ,\n",
    "        'JUL' : 7 ,\n",
    "        'AUG' : 8 ,\n",
    "        'SEP' : 9 ,\n",
    "        'OCT' : 10 ,\n",
    "        'NOV' : 11 ,\n",
    "        'DEC' : 12 ,\n",
    "            \n",
    "    }\n",
    "    \n",
    "\n",
    "    return '{}/{}/{}'.format(date[0:-5], dict[date[-5:-2]], date[-2:])\n",
    "def dateToEpoch(date):\n",
    "    a = date.split('/')\n",
    "    timestamp = datetime.datetime(int('20' + a[2]),int(a[1]),int(a[0]),0,0).timestamp()\n",
    "    return int(timestamp * 1000)\n",
    "\n",
    "def epochToDays(epoch):\n",
    "    if epoch / (1000*60*60*24) < 1:\n",
    "        return 1\n",
    "    return epoch / (1000*60*60*24)\n",
    "\n",
    "def daysPrettyfier(days):\n",
    "    days = str(round(days,1))\n",
    "    if days[-1] != 0:\n",
    "        return \"{}d{}h\".format(days[0],days[-1])\n",
    "    \n",
    "    return days[0] + 'd'\n",
    "    \n",
    "\n",
    "def instrumentsCleaning(json_resp, drop=False):\n",
    "    df = jsonToDataFrame(json_resp)\n",
    "    print(len(df))\n",
    "    df = df.sort_values([\"instrument_name\"]) \n",
    "    df['expiry_date'] = [j.split('-')[1] for j in df['instrument_name']]\n",
    "    \n",
    "    # df['expiration_timestamp'] = df['expiration_timestamp'].apply(epochToDate)\n",
    "    df['expiry_date'] = [dateConverter(j) for j in df['expiry_date']]\n",
    "    df['expiry_date_timestamp'] = df['expiry_date'].apply(dateToEpoch)\n",
    "    df['expiry_month'] = [j.split(\"/\")[1]  for j in df['expiry_date']]\n",
    "    df['mark_price_usa'] = round(df['mark_price'] * df['underlying_price'],2)\n",
    "    df['base'] = [int(j.split(\"-\")[2])  for j in df['instrument_name']]\n",
    "    df['info'] = (df['mark_price_usa'] + df['base'] - df['underlying_price'] ) / (df['underlying_price'] - df['mark_price_usa'])\n",
    "    df['underlying_price'] = df['underlying_price'].astype(int)\n",
    "    \n",
    "    df['remaining_days'] = df['expiry_date_timestamp']- ACTUAL_TIME\n",
    "    df['remaining_days'] = df['remaining_days'].apply(epochToDays)\n",
    "\n",
    "    df['remaining_days_pretty'] = df['remaining_days'].apply(daysPrettyfier)\n",
    "\n",
    "    df['tasa (%)'] = round((df['info'] / df['remaining_days']) *365,2)\n",
    "    df['cover'] = round((df['mark_price_usa'] / df['underlying_price']) *100 ,2)\n",
    "    df['min_loosing_price'] = df['underlying_price'] - (df['underlying_price'] * (df['cover'] / 100))\n",
    "    df.sort_values(['remaining_days','instrument_name'], inplace=True)\n",
    "\n",
    "    if drop == True:\n",
    "        df = df[df.volume != 0]\n",
    "    \n",
    "    # df.drop(['base_currency','creation_timestamp','kind','option_type','quote_currency','min_trade_amount','is_active','block_trade_commission'],axis = 1 , inplace=True)\n",
    "    # \"Estimated delivery price\"\n",
    "    df = df[['bid_price','ask_price','high','volume','instrument_name','mark_price_usa','base','underlying_price','tasa (%)','cover','expiry_date','expiry_month','remaining_days_pretty','remaining_days','min_loosing_price','info']]\n",
    "\n",
    "    return df\n"
   ]
  },
  {
   "cell_type": "code",
   "execution_count": 349,
   "metadata": {},
   "outputs": [
    {
     "name": "stdout",
     "output_type": "stream",
     "text": [
      "228\n",
      "264\n"
     ]
    }
   ],
   "source": [
    "btc_instruments_df = instrumentsCleaning(btc_instruments_json_resp, drop=True)\n",
    "eth_instruments_df = instrumentsCleaning(eth_instruments_json_resp, drop=True)\n"
   ]
  },
  {
   "cell_type": "code",
   "execution_count": 350,
   "metadata": {},
   "outputs": [],
   "source": [
    "def separateCallPut(df):\n",
    "\n",
    "    df['optionType'] = [j[-1] for j in df['instrument_name']]\n",
    "    # instrument_df['expiry_date'] = [j[5:-8] for j in instrument_df['expiry_date']]\n",
    "\n",
    "    put_df = df[df['optionType'] == 'P'].drop('optionType',axis=1)\n",
    "\n",
    "    put_df.drop(['tasa (%)','base'],axis=1,inplace=True)\n",
    "\n",
    "    call_df = df[df['optionType'] == 'C'].drop('optionType',axis=1)\n",
    "\n",
    "    \n",
    "\n",
    "    return call_df, put_df\n",
    "\n",
    "# put_df.set_index('instrument_name', inplace=True)\n",
    "# call_df.set_index('instrument_name', inplace=True)\n",
    "\n",
    "btc_call_df,btc_put_df = separateCallPut(btc_instruments_df)\n",
    "eth_call_df,eth_put_df = separateCallPut(eth_instruments_df)"
   ]
  },
  {
   "cell_type": "code",
   "execution_count": 351,
   "metadata": {},
   "outputs": [],
   "source": [
    "def separateCallsByDate(df):\n",
    "    dataframes = []\n",
    "    for region, df_region in df.groupby('remaining_days'):\n",
    "        dataframes.append([region,df_region])\n",
    "\n",
    "    return dataframes\n",
    "\n",
    "btc_dataframes = separateCallsByDate(btc_call_df)\n",
    "eth_dataframes = separateCallsByDate(eth_call_df)\n",
    "\n",
    "\n"
   ]
  },
  {
   "cell_type": "markdown",
   "metadata": {},
   "source": [
    "## Eporting to Excel"
   ]
  },
  {
   "cell_type": "code",
   "execution_count": 352,
   "metadata": {},
   "outputs": [],
   "source": [
    "# from openpyxl import load_workbook\n",
    " \n",
    "# file_name = 'nada.xlsx'\n",
    " \n",
    "# #load excel file\n",
    "# workbook = load_workbook(filename= 'C:/Users/Alpha/My Drive/codingProjects/deribit/' + file_name)\n",
    " \n",
    "# #open workbook\n",
    "# sheet = workbook.active\n",
    "# # rangeExcel = 1\n",
    "# # #modify the desired cell\n",
    "# # acumRows = 1\n",
    "# # for j in range(1,len(dataframes)):\n",
    "# #     sheet[\"C\" + str(acumRows)] = dataframes[j][0]\n",
    "# #     sheet[\"B\" + str(acumRows + 1)] = 'Base'\n",
    "# #     sheet[\"C\" + str(acumRows + 1)] = 'Prima'\n",
    "# #     sheet[\"D\" + str(acumRows + 1)] = 'Tasa'\n",
    "# #     sheet[\"E\" + str(acumRows + 1)] = 'Cobertura'\n",
    "\n",
    "# #     sheet[\"A\" + str(acumRows + 2)] = dataframes[j][1]\n",
    "\n",
    "# #     sheet[\"D4\"] = '=D17+$C$2'\n",
    "    \n",
    "# #     acumRows = len(dataframes[j][1] + 3)\n",
    "# sheet[\"A1\"] = call_df['instrument_name']\n",
    "\n",
    "# #save the file\n",
    "# workbook.save(filename='C:/Users/Alpha/My Drive/codingProjects/deribit/' + file_name)"
   ]
  },
  {
   "cell_type": "code",
   "execution_count": 353,
   "metadata": {},
   "outputs": [
    {
     "name": "stdout",
     "output_type": "stream",
     "text": [
      "Succesful write\n"
     ]
    }
   ],
   "source": [
    "file_path = 'C:/Users/Alpha/My Drive/codingProjects/deribit/'\n",
    "\n",
    "\n",
    "def paraDario(df, underlying='BTC'):\n",
    "    df['prima'] = df['mark_price_usa']\n",
    "    df['precio_' + underlying + '_actual'] = df['underlying_price']\n",
    "    excel_call_df = df[['info','instrument_name','volume','prima','tasa (%)','cover','min_loosing_price','precio_' + underlying + '_actual','expiry_date','remaining_days_pretty']]\n",
    "    return excel_call_df\n",
    "# saving the excel\n",
    "excel_btc_call_df = paraDario(btc_call_df)\n",
    "excel_eth_call_df = paraDario(eth_call_df, 'ETH')\n",
    "\n",
    "excel_btc_call_df.to_excel(file_path + 'BTCOptions.xlsx', index=False)\n",
    "excel_eth_call_df.to_excel(file_path + 'ETHOptions.xlsx', index=False)\n",
    "\n",
    "print('Succesful write')"
   ]
  },
  {
   "cell_type": "code",
   "execution_count": null,
   "metadata": {},
   "outputs": [],
   "source": []
  }
 ],
 "metadata": {
  "interpreter": {
   "hash": "0303607826242bccb9428448bc80af4f6290966dd5edca19408a2523c0644261"
  },
  "kernelspec": {
   "display_name": "Python 3.9.7 64-bit ('base': conda)",
   "language": "python",
   "name": "python3"
  },
  "language_info": {
   "codemirror_mode": {
    "name": "ipython",
    "version": 3
   },
   "file_extension": ".py",
   "mimetype": "text/x-python",
   "name": "python",
   "nbconvert_exporter": "python",
   "pygments_lexer": "ipython3",
   "version": "3.9.5"
  },
  "orig_nbformat": 4
 },
 "nbformat": 4,
 "nbformat_minor": 2
}

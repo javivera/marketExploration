{
 "cells": [
  {
   "cell_type": "markdown",
   "metadata": {},
   "source": [
    "# Deribit Api Management"
   ]
  },
  {
   "cell_type": "markdown",
   "metadata": {},
   "source": [
    "## Api configuration"
   ]
  },
  {
   "cell_type": "code",
   "execution_count": 137,
   "metadata": {},
   "outputs": [],
   "source": [
    "import pprint\n",
    "import nest_asyncio\n",
    "import asyncio\n",
    "import websockets\n",
    "import json\n",
    "import pandas as pd\n",
    "import datetime as dt\n",
    "import time\n",
    "\n",
    "ACTUAL_TIME = round(time.time() * 1000) \n",
    "# End time is actual time\n",
    "\n",
    "nest_asyncio.apply()\n",
    "\n",
    "async def call_api(msg):\n",
    "   async with websockets.connect('wss://test.deribit.com/ws/api/v2') as websocket:\n",
    "       await websocket.send(msg)\n",
    "       while websocket.open:\n",
    "           response = await websocket.recv()\n",
    "           return response\n",
    "\n",
    "def async_loop(api, message):\n",
    "    return asyncio.get_event_loop().run_until_complete(api(message))\n"
   ]
  },
  {
   "cell_type": "markdown",
   "metadata": {},
   "source": [
    "## Simple api calls (getting information)"
   ]
  },
  {
   "cell_type": "code",
   "execution_count": 138,
   "metadata": {},
   "outputs": [],
   "source": [
    "def retrieve_historic_data(start, end, instrument, timeframe = '1'):\n",
    "    msg = \\\n",
    "        {\n",
    "            \"jsonrpc\": \"2.0\",\n",
    "            \"id\": 833,\n",
    "            \"method\": \"public/get_tradingview_chart_data\",\n",
    "            \"params\": {\n",
    "                \"instrument_name\": instrument,\n",
    "                \"start_timestamp\": start,\n",
    "                \"end_timestamp\": end,\n",
    "                \"resolution\": timeframe\n",
    "            }\n",
    "        }\n",
    "    resp = async_loop(call_api, json.dumps(msg))\n",
    "\n",
    "    return resp\n",
    "\n",
    "def getSummary (currency = 'BTC', type = 'option'):\n",
    "    msg = \\\n",
    "    {\n",
    "        \"jsonrpc\" : \"2.0\",\n",
    "        \"id\" : 9344,\n",
    "        \"method\" : \"public/get_book_summary_by_currency\",\n",
    "        \"params\" : {\n",
    "            \"currency\" : currency,\n",
    "            \"kind\" : type\n",
    "        }\n",
    "    }\n",
    "    resp = async_loop(call_api, json.dumps(msg))\n",
    "\n",
    "    return resp\n",
    "\n",
    "def getInstruments (currency = \"BTC\", kind = 'option' , expired = False):\n",
    "    msg = \\\n",
    "    {\n",
    "        \"jsonrpc\" : \"2.0\",\n",
    "        \"id\" : 7617,\n",
    "        \"method\" : \"public/get_instruments\",\n",
    "        \"params\" : {\n",
    "            \"currency\" : \"BTC\",\n",
    "            \"kind\" : \"future\",\n",
    "            \"expired\" : False\n",
    "        }\n",
    "    }\n",
    "\n",
    "    resp = async_loop(call_api, json.dumps(msg))\n",
    "\n",
    "    return resp    \n",
    "\n",
    "    \n",
    "def epochToDate(epoch):\n",
    "    return time.strftime('%d-%m-%Y %H:%M',time.localtime(epoch/1000))\n",
    "\n",
    "\n",
    "\n"
   ]
  },
  {
   "cell_type": "markdown",
   "metadata": {},
   "source": [
    "## Calling Api"
   ]
  },
  {
   "cell_type": "code",
   "execution_count": 139,
   "metadata": {},
   "outputs": [],
   "source": [
    "instruments_json_resp = getSummary()"
   ]
  },
  {
   "cell_type": "markdown",
   "metadata": {},
   "source": [
    "## Cleaning data"
   ]
  },
  {
   "cell_type": "code",
   "execution_count": 148,
   "metadata": {},
   "outputs": [],
   "source": [
    "def jsonToDataFrame(json_resp):\n",
    "    res = json.loads(json_resp)\n",
    "\n",
    "    df = pd.DataFrame(res['result'])\n",
    "\n",
    "    return df\n",
    "    \n",
    "def historyCleaning(json_resp):\n",
    "    res = json.loads(json_resp)\n",
    "\n",
    "    df = pd.DataFrame(res['result'])\n",
    "\n",
    "    df['ticks'] = df.ticks / 1000\n",
    "    # df['timestamp'] = [dt.datetime.fromtimestamp(date) for date in df.ticks]\n",
    "\n",
    "    return df\n",
    "\n",
    "def dateConverter(date):\n",
    "    dict = {\n",
    "        'JAN' : 1 ,\n",
    "        'FEB' : 2 ,\n",
    "        'MAR' : 3 ,\n",
    "        'APR' : 4 ,\n",
    "        'MAY' : 5 ,\n",
    "        'JUN' : 6 ,\n",
    "        'JUL' : 7 ,\n",
    "        'AUG' : 8 ,\n",
    "        'SEP' : 9 ,\n",
    "        'OCT' : 10 ,\n",
    "        'NOV' : 11 ,\n",
    "        'DEC' : 12 ,\n",
    "            \n",
    "    }\n",
    "    \n",
    "\n",
    "    return '{}/{}/{}'.format(date[0:-5], dict[date[-5:-2]], date[-2:])\n",
    "\n",
    "def instrumentsCleaning(json_resp):\n",
    "    df = jsonToDataFrame(json_resp)\n",
    "    \n",
    "\n",
    "    df = df.sort_values([\"instrument_name\"]) \n",
    "    df['expiry_date'] = [j.split('-')[1] for j in df['instrument_name']]\n",
    "    # df['expiration_timestamp'] = df['expiration_timestamp'].apply(epochToDate)\n",
    "    df['expiry_date'] = [dateConverter(j) for j in df['expiry_date']]\n",
    "    df['expiry_month'] = [j.split(\"/\")[1]  for j in df['expiry_date']]\n",
    "    # df.drop(['base_currency','creation_timestamp','kind','option_type','quote_currency','min_trade_amount','is_active','block_trade_commission'],axis = 1 , inplace=True)\n",
    "    df = df[['instrument_name','mark_price','volume','estimated_delivery_price','expiry_date','expiry_month']]\n",
    "\n",
    "    \n",
    "\n",
    "    return df\n",
    "\n"
   ]
  },
  {
   "cell_type": "code",
   "execution_count": 149,
   "metadata": {},
   "outputs": [
    {
     "data": {
      "text/html": [
       "<div>\n",
       "<style scoped>\n",
       "    .dataframe tbody tr th:only-of-type {\n",
       "        vertical-align: middle;\n",
       "    }\n",
       "\n",
       "    .dataframe tbody tr th {\n",
       "        vertical-align: top;\n",
       "    }\n",
       "\n",
       "    .dataframe thead th {\n",
       "        text-align: right;\n",
       "    }\n",
       "</style>\n",
       "<table border=\"1\" class=\"dataframe\">\n",
       "  <thead>\n",
       "    <tr style=\"text-align: right;\">\n",
       "      <th></th>\n",
       "      <th>instrument_name</th>\n",
       "      <th>mark_price</th>\n",
       "      <th>volume</th>\n",
       "      <th>estimated_delivery_price</th>\n",
       "      <th>expiry_date</th>\n",
       "      <th>expiry_month</th>\n",
       "    </tr>\n",
       "  </thead>\n",
       "  <tbody>\n",
       "    <tr>\n",
       "      <th>36</th>\n",
       "      <td>BTC-15FEB22-39000-C</td>\n",
       "      <td>0.075672</td>\n",
       "      <td>5.5</td>\n",
       "      <td>42161.61</td>\n",
       "      <td>15/2/22</td>\n",
       "      <td>2</td>\n",
       "    </tr>\n",
       "    <tr>\n",
       "      <th>89</th>\n",
       "      <td>BTC-15FEB22-39000-P</td>\n",
       "      <td>0.000726</td>\n",
       "      <td>30.5</td>\n",
       "      <td>42161.61</td>\n",
       "      <td>15/2/22</td>\n",
       "      <td>2</td>\n",
       "    </tr>\n",
       "    <tr>\n",
       "      <th>108</th>\n",
       "      <td>BTC-15FEB22-40000-C</td>\n",
       "      <td>0.051954</td>\n",
       "      <td>4.0</td>\n",
       "      <td>42161.61</td>\n",
       "      <td>15/2/22</td>\n",
       "      <td>2</td>\n",
       "    </tr>\n",
       "    <tr>\n",
       "      <th>220</th>\n",
       "      <td>BTC-15FEB22-40000-P</td>\n",
       "      <td>0.000728</td>\n",
       "      <td>459.4</td>\n",
       "      <td>42161.61</td>\n",
       "      <td>15/2/22</td>\n",
       "      <td>2</td>\n",
       "    </tr>\n",
       "    <tr>\n",
       "      <th>167</th>\n",
       "      <td>BTC-15FEB22-41000-C</td>\n",
       "      <td>0.029257</td>\n",
       "      <td>177.1</td>\n",
       "      <td>42161.61</td>\n",
       "      <td>15/2/22</td>\n",
       "      <td>2</td>\n",
       "    </tr>\n",
       "    <tr>\n",
       "      <th>...</th>\n",
       "      <td>...</td>\n",
       "      <td>...</td>\n",
       "      <td>...</td>\n",
       "      <td>...</td>\n",
       "      <td>...</td>\n",
       "      <td>...</td>\n",
       "    </tr>\n",
       "    <tr>\n",
       "      <th>132</th>\n",
       "      <td>BTC-4MAR22-50000-P</td>\n",
       "      <td>0.253427</td>\n",
       "      <td>2.0</td>\n",
       "      <td>42161.61</td>\n",
       "      <td>4/3/22</td>\n",
       "      <td>3</td>\n",
       "    </tr>\n",
       "    <tr>\n",
       "      <th>68</th>\n",
       "      <td>BTC-4MAR22-55000-C</td>\n",
       "      <td>0.043397</td>\n",
       "      <td>0.0</td>\n",
       "      <td>42161.61</td>\n",
       "      <td>4/3/22</td>\n",
       "      <td>3</td>\n",
       "    </tr>\n",
       "    <tr>\n",
       "      <th>143</th>\n",
       "      <td>BTC-4MAR22-55000-P</td>\n",
       "      <td>0.347942</td>\n",
       "      <td>0.0</td>\n",
       "      <td>42161.61</td>\n",
       "      <td>4/3/22</td>\n",
       "      <td>3</td>\n",
       "    </tr>\n",
       "    <tr>\n",
       "      <th>84</th>\n",
       "      <td>BTC-4MAR22-60000-C</td>\n",
       "      <td>0.027544</td>\n",
       "      <td>0.0</td>\n",
       "      <td>42161.61</td>\n",
       "      <td>4/3/22</td>\n",
       "      <td>3</td>\n",
       "    </tr>\n",
       "    <tr>\n",
       "      <th>152</th>\n",
       "      <td>BTC-4MAR22-60000-P</td>\n",
       "      <td>0.450684</td>\n",
       "      <td>0.0</td>\n",
       "      <td>42161.61</td>\n",
       "      <td>4/3/22</td>\n",
       "      <td>3</td>\n",
       "    </tr>\n",
       "  </tbody>\n",
       "</table>\n",
       "<p>236 rows × 6 columns</p>\n",
       "</div>"
      ],
      "text/plain": [
       "         instrument_name  mark_price  volume  estimated_delivery_price  \\\n",
       "36   BTC-15FEB22-39000-C    0.075672     5.5                  42161.61   \n",
       "89   BTC-15FEB22-39000-P    0.000726    30.5                  42161.61   \n",
       "108  BTC-15FEB22-40000-C    0.051954     4.0                  42161.61   \n",
       "220  BTC-15FEB22-40000-P    0.000728   459.4                  42161.61   \n",
       "167  BTC-15FEB22-41000-C    0.029257   177.1                  42161.61   \n",
       "..                   ...         ...     ...                       ...   \n",
       "132   BTC-4MAR22-50000-P    0.253427     2.0                  42161.61   \n",
       "68    BTC-4MAR22-55000-C    0.043397     0.0                  42161.61   \n",
       "143   BTC-4MAR22-55000-P    0.347942     0.0                  42161.61   \n",
       "84    BTC-4MAR22-60000-C    0.027544     0.0                  42161.61   \n",
       "152   BTC-4MAR22-60000-P    0.450684     0.0                  42161.61   \n",
       "\n",
       "    expiry_date expiry_month  \n",
       "36      15/2/22            2  \n",
       "89      15/2/22            2  \n",
       "108     15/2/22            2  \n",
       "220     15/2/22            2  \n",
       "167     15/2/22            2  \n",
       "..          ...          ...  \n",
       "132      4/3/22            3  \n",
       "68       4/3/22            3  \n",
       "143      4/3/22            3  \n",
       "84       4/3/22            3  \n",
       "152      4/3/22            3  \n",
       "\n",
       "[236 rows x 6 columns]"
      ]
     },
     "execution_count": 149,
     "metadata": {},
     "output_type": "execute_result"
    }
   ],
   "source": [
    "instrument_df = instrumentsCleaning(instruments_json_resp)\n",
    "instrument_df\n",
    "\n"
   ]
  },
  {
   "cell_type": "markdown",
   "metadata": {},
   "source": [
    "## Separating Calls and Puts"
   ]
  },
  {
   "cell_type": "code",
   "execution_count": 153,
   "metadata": {},
   "outputs": [
    {
     "name": "stdout",
     "output_type": "stream",
     "text": [
      "          instrument_name  mark_price  volume  estimated_delivery_price  \\\n",
      "130  BTC-30SEP22-100000-P    1.328187     0.0                  42161.61   \n",
      "226  BTC-30SEP22-150000-P    2.446602     0.0                  42161.61   \n",
      "228  BTC-30SEP22-200000-P    3.587070     0.0                  42161.61   \n",
      "128   BTC-30SEP22-25000-P    0.042219     0.0                  42161.61   \n",
      "102  BTC-30SEP22-250000-P    4.731448     0.0                  42161.61   \n",
      "\n",
      "    expiry_date expiry_month  \n",
      "130     30/9/22            9  \n",
      "226     30/9/22            9  \n",
      "228     30/9/22            9  \n",
      "128     30/9/22            9  \n",
      "102     30/9/22            9  \n",
      "['9' '6' '4' '3' '2' '12']\n"
     ]
    }
   ],
   "source": [
    "instrument_df['optionType'] = [j[-1] for j in instrument_df['instrument_name']]\n",
    "# instrument_df['expiry_date'] = [j[5:-8] for j in instrument_df['expiry_date']]\n",
    "\n",
    "put_df = instrument_df[instrument_df['optionType'] == 'P'].drop('optionType',axis=1)\n",
    "call_df = instrument_df[instrument_df['optionType'] == 'C'].drop('optionType',axis=1)\n",
    "\n",
    "put_df = put_df.sort_values(['expiry_month','expiry_date'],ascending=False)\n",
    "\n",
    "# put_df = put_df.set_index('instrument_name')\n",
    "# call_df = call_df.set_index('instrument_name')\n",
    "\n",
    "# put_df.set_index('instrument_name', inplace=True)\n",
    "# call_df.set_index('instrument_name', inplace=True)\n",
    "\n",
    "print(put_df.head())\n",
    "a = put_df['expiry_month'].unique()\n",
    "\n"
   ]
  },
  {
   "cell_type": "code",
   "execution_count": 162,
   "metadata": {},
   "outputs": [],
   "source": [
    "\n",
    "dataframes = []\n",
    "for region, df_region in put_df.groupby('expiry_date'):\n",
    "    dataframes.append([region,df_region])"
   ]
  },
  {
   "cell_type": "code",
   "execution_count": 175,
   "metadata": {},
   "outputs": [
    {
     "data": {
      "text/plain": [
       "7"
      ]
     },
     "execution_count": 175,
     "metadata": {},
     "output_type": "execute_result"
    }
   ],
   "source": [
    "len(dataframes[6][1])\n"
   ]
  },
  {
   "cell_type": "markdown",
   "metadata": {},
   "source": [
    "## Eporting to Excel"
   ]
  },
  {
   "cell_type": "code",
   "execution_count": null,
   "metadata": {},
   "outputs": [],
   "source": [
    "# file_name = 'prueba.xlsx'\n",
    "\n",
    "# put_df.to_excel('C:/Users/Alpha/My Drive/codingProjects/deribit/' + file_name)"
   ]
  },
  {
   "cell_type": "code",
   "execution_count": null,
   "metadata": {},
   "outputs": [],
   "source": [
    "from openpyxl import load_workbook\n",
    " \n",
    "file_name = 'nada.xlsx'\n",
    " \n",
    "#load excel file\n",
    "workbook = load_workbook(filename= 'C:/Users/Alpha/My Drive/codingProjects/deribit/' + file_name)\n",
    " \n",
    "#open workbook\n",
    "sheet = workbook.active\n",
    "rangeExcel = 1\n",
    "#modify the desired cell\n",
    "for j in range(1,len(dataframes)):\n",
    "    \n",
    "    sheet[\"A\" + str(range)] = dataframes[j][1].iloc[j]\n",
    "    sheet[\"D4\"] = '=D17+$C$2'\n",
    "    rangeExcel = len(dataframes[j][1])\n",
    "#save the file\n",
    "workbook.save(filename='C:/Users/Alpha/My Drive/codingProjects/deribit/' + file_name)"
   ]
  },
  {
   "cell_type": "code",
   "execution_count": null,
   "metadata": {},
   "outputs": [],
   "source": []
  }
 ],
 "metadata": {
  "interpreter": {
   "hash": "0303607826242bccb9428448bc80af4f6290966dd5edca19408a2523c0644261"
  },
  "kernelspec": {
   "display_name": "Python 3.9.7 64-bit ('base': conda)",
   "language": "python",
   "name": "python3"
  },
  "language_info": {
   "codemirror_mode": {
    "name": "ipython",
    "version": 3
   },
   "file_extension": ".py",
   "mimetype": "text/x-python",
   "name": "python",
   "nbconvert_exporter": "python",
   "pygments_lexer": "ipython3",
   "version": "3.9.5"
  },
  "orig_nbformat": 4
 },
 "nbformat": 4,
 "nbformat_minor": 2
}

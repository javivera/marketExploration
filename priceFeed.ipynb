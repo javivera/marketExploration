{
 "cells": [
  {
   "cell_type": "code",
   "execution_count": 66,
   "metadata": {},
   "outputs": [],
   "source": [
    "import websocket\n",
    "import json\n",
    "import time\n",
    "\n",
    "socket = \"wss://stream.binance.com/ws/btcusdt@kline_15m\"\n",
    "socket = \"wss://fstream.binance.com/ws/lunausdt@kline_15m\"\n",
    "\n",
    "def epochToDate(epoch):\n",
    "    # from datetime import datetime\n",
    "    # print(datetime.fromtimestamp(int(\"1518308894652\")/1000))\n",
    "    return time.strftime('%Y-%m-%d %H:%M',time.localtime(epoch/1000))\n",
    "\n",
    "def on_message(wsapp, message):\n",
    "    \n",
    "    a = json.loads(message)\n",
    "    print(\"Time: {} --- Volume: {} --- Price: {}\".format(epochToDate(a['E']), a['k']['v'],a['k']['c']) )\n",
    "    \n",
    "\n",
    "def getFeed(pair,type='f',stream='kline',interval='15m'): # 'f' for futuer or 's' for spot\n",
    "    if type == 'f':\n",
    "        socket =  \"wss://fstream.binance.com/ws/{}@{}_{}\".format(pair,stream,interval) \n",
    "    else:\n",
    "        socket =  \"wss://stream.binance.com/ws/{}@{}_{}\".format(pair,stream,interval) \n",
    "\n",
    "    wsapp = websocket.WebSocketApp(socket, on_message=on_message)\n",
    "    wsapp.run_forever()\n",
    "\n",
    "    "
   ]
  },
  {
   "cell_type": "code",
   "execution_count": 68,
   "metadata": {},
   "outputs": [],
   "source": [
    "# getFeed('btcusdt')"
   ]
  },
  {
   "cell_type": "code",
   "execution_count": null,
   "metadata": {},
   "outputs": [],
   "source": []
  }
 ],
 "metadata": {
  "interpreter": {
   "hash": "757cb77ed2af1a0edea82e58b27ec51a52e2bff9080ec059dd954dd25751d211"
  },
  "kernelspec": {
   "display_name": "Python 3.8.11 ('base')",
   "language": "python",
   "name": "python3"
  },
  "language_info": {
   "codemirror_mode": {
    "name": "ipython",
    "version": 3
   },
   "file_extension": ".py",
   "mimetype": "text/x-python",
   "name": "python",
   "nbconvert_exporter": "python",
   "pygments_lexer": "ipython3",
   "version": "3.8.11"
  },
  "orig_nbformat": 4
 },
 "nbformat": 4,
 "nbformat_minor": 2
}

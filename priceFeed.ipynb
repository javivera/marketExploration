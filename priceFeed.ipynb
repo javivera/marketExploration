{
 "cells": [
  {
   "cell_type": "code",
   "execution_count": 12,
   "metadata": {},
   "outputs": [],
   "source": [
    "import websocket\n",
    "import json\n",
    "import time\n",
    "\n",
    "socket = \"wss://stream.binance.com/ws/btcusdt@kline_15m\"\n",
    "socket = \"wss://fstream.binance.com/ws/lunausdt@kline_15m\"\n",
    "\n",
    "def epochToDate(epoch):\n",
    "    # from datetime import datetime\n",
    "    # print(datetime.fromtimestamp(int(\"1518308894652\")/1000))\n",
    "    return time.strftime('%Y-%m-%d %H:%M',time.localtime(epoch/1000))\n",
    "\n",
    "def on_message(wsapp, message):\n",
    "    \n",
    "    a = json.loads(message)\n",
    "    # print(\"Time: {} --- Volume: {} --- Price: {}\".format(epochToDate(a['E']), a['k']['v'],a['k']['c']) )\n",
    "    #print(int(df['VMA20'][len(df)- 1]) - int(a['k']['v']) )\n",
    "    print(a['k']['c'])\n",
    "\n",
    "def getFeed(pair,type='f',stream='kline',interval='1m'): # 'f' for futuer or 's' for spot\n",
    "    if type == 'f':\n",
    "        socket =  \"wss://fstream.binance.com/ws/{}@{}_{}\".format(pair,stream,interval) \n",
    "    elif type == 's':\n",
    "        socket =  \"wss://stream.binance.com/ws/{}@{}_{}\".format(pair,stream,interval) \n",
    "\n",
    "    wsapp = websocket.WebSocketApp(socket, on_message=on_message)\n",
    "    wsapp.run_forever()\n",
    "\n",
    "    "
   ]
  },
  {
   "cell_type": "code",
   "execution_count": 13,
   "metadata": {},
   "outputs": [
    {
     "name": "stdout",
     "output_type": "stream",
     "text": [
      "40541.90000000\n",
      "40541.91000000\n",
      "40544.43000000\n",
      "40544.87000000\n",
      "40546.24000000\n",
      "40546.23000000\n",
      "40544.87000000\n",
      "40543.27000000\n",
      "40541.91000000\n",
      "40541.90000000\n",
      "40541.90000000\n",
      "40541.91000000\n",
      "40541.91000000\n",
      "40541.91000000\n",
      "40541.90000000\n",
      "40541.90000000\n",
      "40541.91000000\n",
      "40541.90000000\n",
      "40541.91000000\n",
      "40543.99000000\n",
      "40545.41000000\n",
      "40545.40000000\n",
      "40542.93000000\n",
      "40542.93000000\n",
      "40541.89000000\n",
      "40541.85000000\n",
      "40540.00000000\n",
      "40540.01000000\n",
      "40540.01000000\n",
      "40536.85000000\n",
      "40536.85000000\n",
      "40536.85000000\n",
      "40517.01000000\n",
      "40517.00000000\n",
      "40517.00000000\n",
      "40517.00000000\n",
      "40517.00000000\n",
      "40515.47000000\n",
      "40515.47000000\n",
      "40515.48000000\n",
      "40515.47000000\n",
      "40515.48000000\n",
      "40515.47000000\n",
      "40515.48000000\n",
      "40515.48000000\n",
      "40511.00000000\n",
      "40508.00000000\n",
      "40501.65000000\n",
      "40501.66000000\n",
      "40500.15000000\n",
      "40500.15000000\n",
      "40506.77000000\n",
      "40509.04000000\n"
     ]
    }
   ],
   "source": [
    "getFeed('btcusdt','s')"
   ]
  },
  {
   "cell_type": "code",
   "execution_count": 75,
   "metadata": {},
   "outputs": [],
   "source": [
    "import binanceApi as bapi"
   ]
  },
  {
   "cell_type": "code",
   "execution_count": 76,
   "metadata": {},
   "outputs": [
    {
     "name": "stdout",
     "output_type": "stream",
     "text": [
      "hola\n"
     ]
    }
   ],
   "source": [
    "df = bapi.dataPipeline()"
   ]
  },
  {
   "cell_type": "code",
   "execution_count": 77,
   "metadata": {},
   "outputs": [
    {
     "data": {
      "text/plain": [
       "int"
      ]
     },
     "execution_count": 77,
     "metadata": {},
     "output_type": "execute_result"
    }
   ],
   "source": [
    "df.head()\n",
    "df['VMA20'] = df['volume'].rolling(20).mean()\n",
    "type(int(df['VMA20'][len(df)- 1]))\n"
   ]
  },
  {
   "cell_type": "code",
   "execution_count": 78,
   "metadata": {},
   "outputs": [],
   "source": [
    "getFeed('btcusdt')"
   ]
  },
  {
   "cell_type": "code",
   "execution_count": null,
   "metadata": {},
   "outputs": [],
   "source": []
  },
  {
   "cell_type": "code",
   "execution_count": null,
   "metadata": {},
   "outputs": [],
   "source": []
  }
 ],
 "metadata": {
  "interpreter": {
   "hash": "757cb77ed2af1a0edea82e58b27ec51a52e2bff9080ec059dd954dd25751d211"
  },
  "kernelspec": {
   "display_name": "Python 3.8.11 ('base')",
   "language": "python",
   "name": "python3"
  },
  "language_info": {
   "codemirror_mode": {
    "name": "ipython",
    "version": 3
   },
   "file_extension": ".py",
   "mimetype": "text/x-python",
   "name": "python",
   "nbconvert_exporter": "python",
   "pygments_lexer": "ipython3",
   "version": "3.8.11"
  },
  "orig_nbformat": 4
 },
 "nbformat": 4,
 "nbformat_minor": 2
}

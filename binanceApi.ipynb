{
 "cells": [
  {
   "cell_type": "markdown",
   "metadata": {},
   "source": [
    "## Retrieveing Data"
   ]
  },
  {
   "cell_type": "code",
   "execution_count": 114,
   "metadata": {},
   "outputs": [],
   "source": [
    "import requests\n",
    "import pandas as pd\n",
    "import time\n",
    "import json\n",
    "\n",
    "CURRENT_TIME = round(time.time() * 1000) \n",
    "\n",
    "def dateToEpoch(date):\n",
    "    a = date.split('/')\n",
    "    timestamp = datetime(int('20' + a[2]),int(a[1]),int(a[0]),0,0).timestamp()\n",
    "    return int(timestamp * 1000)\n",
    "\n",
    "def epochToDate(epoch):\n",
    "    # from datetime import datetime\n",
    "    # print(datetime.fromtimestamp(int(\"1518308894652\")/1000))\n",
    "    return time.strftime('%Y-%m-%d %H:%M',time.localtime(epoch/1000))\n",
    "\n",
    "def jsonToDataFrame(json_resp):\n",
    "    res = json.loads(json_resp)\n",
    "    df = pd.DataFrame(res['result'])\n",
    "    return df\n",
    "\n",
    "def getSymbols():\n",
    "    json_resp2 = (requests.get(\"https://fapi.binance.com/fapi/v1/exchangeInfo\").json())\n",
    "    for j in range(len(json_resp2['symbols'])):\n",
    "\n",
    "        print(json_resp2['symbols'][j]['symbol'])\n",
    "\n",
    "def getKlines(pair,interval,startime,endtime=CURRENT_TIME):\n",
    "    query = { \n",
    "    \"symbol\":pair, \n",
    "    \"interval\": interval,\n",
    "    \"startTime\": startime,\n",
    "    \"endTime\": endtime\n",
    "    \n",
    "    }\n",
    "    # Add option for endtime\n",
    "    \n",
    "    json_resp = (requests.get(\"https://fapi.binance.com/fapi/v1/klines\",params=query).json())\n",
    "    df = pd.DataFrame(json_resp)\n",
    "    return df\n"
   ]
  },
  {
   "cell_type": "markdown",
   "metadata": {},
   "source": [
    "## Cleaning Data"
   ]
  },
  {
   "cell_type": "code",
   "execution_count": 115,
   "metadata": {},
   "outputs": [],
   "source": [
    "def dataCleaning(df):\n",
    "    columns = {\n",
    "        0:'time',\n",
    "        1:'open',\n",
    "        2:'high',\n",
    "        3:'low',\n",
    "        4:'close',\n",
    "        5:'volume',\n",
    "        6:'close_time',\n",
    "        8:'number_of_trades'\n",
    "    }\n",
    "\n",
    "    df = df.drop(columns=[7,9,10,11])\n",
    "\n",
    "    \n",
    "    \n",
    "\n",
    "    df = df.rename(columns = columns)\n",
    "    \n",
    "    # df = df.sort_values(by=['time'])\n",
    "    df['time'] = df['time'].apply(epochToDate)\n",
    "    df['close_time'] = df['close_time'].apply(epochToDate)\n",
    "    \n",
    "    \n",
    "    return df"
   ]
  },
  {
   "cell_type": "code",
   "execution_count": 116,
   "metadata": {},
   "outputs": [],
   "source": [
    "def dataPipeline(pair,interval,start_time):\n",
    "    df = getKlines(pair,interval,start_time)\n",
    "    df = dataCleaning(df)\n",
    "    return df"
   ]
  },
  {
   "cell_type": "markdown",
   "metadata": {},
   "source": [
    "## Candlestick graph"
   ]
  },
  {
   "cell_type": "code",
   "execution_count": 117,
   "metadata": {},
   "outputs": [],
   "source": [
    "import plotly.graph_objects as go\n",
    "\n",
    "import pandas as pd\n",
    "from datetime import datetime\n",
    "\n",
    "def candleGraph(df):\n",
    "    fig = go.Figure(data=[go.Candlestick(x=df['time'],\n",
    "                    open=df['open'],\n",
    "                    high=df['high'],\n",
    "                    low=df['low'],\n",
    "                    close=df['close'])])\n",
    "\n",
    "    fig.show()\n",
    "\n",
    "# candleGraph(df)"
   ]
  },
  {
   "cell_type": "markdown",
   "metadata": {},
   "source": [
    "## Data exploration"
   ]
  },
  {
   "cell_type": "code",
   "execution_count": 118,
   "metadata": {},
   "outputs": [],
   "source": [
    "df = dataPipeline('LUNAUSDT','15m',1646517200000)\n",
    "\n"
   ]
  },
  {
   "cell_type": "code",
   "execution_count": 120,
   "metadata": {},
   "outputs": [
    {
     "data": {
      "text/html": [
       "<div>\n",
       "<style scoped>\n",
       "    .dataframe tbody tr th:only-of-type {\n",
       "        vertical-align: middle;\n",
       "    }\n",
       "\n",
       "    .dataframe tbody tr th {\n",
       "        vertical-align: top;\n",
       "    }\n",
       "\n",
       "    .dataframe thead th {\n",
       "        text-align: right;\n",
       "    }\n",
       "</style>\n",
       "<table border=\"1\" class=\"dataframe\">\n",
       "  <thead>\n",
       "    <tr style=\"text-align: right;\">\n",
       "      <th></th>\n",
       "      <th>time</th>\n",
       "      <th>open</th>\n",
       "      <th>high</th>\n",
       "      <th>low</th>\n",
       "      <th>close</th>\n",
       "      <th>volume</th>\n",
       "      <th>close_time</th>\n",
       "      <th>number_of_trades</th>\n",
       "    </tr>\n",
       "  </thead>\n",
       "  <tbody>\n",
       "    <tr>\n",
       "      <th>495</th>\n",
       "      <td>2022-03-05 03:45</td>\n",
       "      <td>83.6480</td>\n",
       "      <td>83.6990</td>\n",
       "      <td>83.1500</td>\n",
       "      <td>83.4330</td>\n",
       "      <td>165274</td>\n",
       "      <td>2022-03-05 03:59</td>\n",
       "      <td>13879</td>\n",
       "    </tr>\n",
       "    <tr>\n",
       "      <th>496</th>\n",
       "      <td>2022-03-05 04:00</td>\n",
       "      <td>83.4330</td>\n",
       "      <td>83.8640</td>\n",
       "      <td>83.1410</td>\n",
       "      <td>83.7370</td>\n",
       "      <td>204763</td>\n",
       "      <td>2022-03-05 04:14</td>\n",
       "      <td>14623</td>\n",
       "    </tr>\n",
       "    <tr>\n",
       "      <th>497</th>\n",
       "      <td>2022-03-05 04:15</td>\n",
       "      <td>83.7310</td>\n",
       "      <td>84.8660</td>\n",
       "      <td>83.6360</td>\n",
       "      <td>84.6730</td>\n",
       "      <td>395940</td>\n",
       "      <td>2022-03-05 04:29</td>\n",
       "      <td>27211</td>\n",
       "    </tr>\n",
       "    <tr>\n",
       "      <th>498</th>\n",
       "      <td>2022-03-05 04:30</td>\n",
       "      <td>84.6790</td>\n",
       "      <td>85.2000</td>\n",
       "      <td>84.3900</td>\n",
       "      <td>84.9860</td>\n",
       "      <td>282667</td>\n",
       "      <td>2022-03-05 04:44</td>\n",
       "      <td>19208</td>\n",
       "    </tr>\n",
       "    <tr>\n",
       "      <th>499</th>\n",
       "      <td>2022-03-05 04:45</td>\n",
       "      <td>84.9890</td>\n",
       "      <td>85.8060</td>\n",
       "      <td>84.9870</td>\n",
       "      <td>85.2880</td>\n",
       "      <td>437734</td>\n",
       "      <td>2022-03-05 04:59</td>\n",
       "      <td>28490</td>\n",
       "    </tr>\n",
       "  </tbody>\n",
       "</table>\n",
       "</div>"
      ],
      "text/plain": [
       "                 time     open     high      low    close  volume  \\\n",
       "495  2022-03-05 03:45  83.6480  83.6990  83.1500  83.4330  165274   \n",
       "496  2022-03-05 04:00  83.4330  83.8640  83.1410  83.7370  204763   \n",
       "497  2022-03-05 04:15  83.7310  84.8660  83.6360  84.6730  395940   \n",
       "498  2022-03-05 04:30  84.6790  85.2000  84.3900  84.9860  282667   \n",
       "499  2022-03-05 04:45  84.9890  85.8060  84.9870  85.2880  437734   \n",
       "\n",
       "           close_time  number_of_trades  \n",
       "495  2022-03-05 03:59             13879  \n",
       "496  2022-03-05 04:14             14623  \n",
       "497  2022-03-05 04:29             27211  \n",
       "498  2022-03-05 04:44             19208  \n",
       "499  2022-03-05 04:59             28490  "
      ]
     },
     "execution_count": 120,
     "metadata": {},
     "output_type": "execute_result"
    }
   ],
   "source": [
    "df.tail()"
   ]
  },
  {
   "cell_type": "code",
   "execution_count": 129,
   "metadata": {},
   "outputs": [],
   "source": [
    "df = getKlines('LUNAUSDT','15m',1646519766083)\n",
    "df = dataCleaning(df)"
   ]
  },
  {
   "cell_type": "code",
   "execution_count": 131,
   "metadata": {},
   "outputs": [
    {
     "data": {
      "text/html": [
       "<div>\n",
       "<style scoped>\n",
       "    .dataframe tbody tr th:only-of-type {\n",
       "        vertical-align: middle;\n",
       "    }\n",
       "\n",
       "    .dataframe tbody tr th {\n",
       "        vertical-align: top;\n",
       "    }\n",
       "\n",
       "    .dataframe thead th {\n",
       "        text-align: right;\n",
       "    }\n",
       "</style>\n",
       "<table border=\"1\" class=\"dataframe\">\n",
       "  <thead>\n",
       "    <tr style=\"text-align: right;\">\n",
       "      <th></th>\n",
       "      <th>time</th>\n",
       "      <th>open</th>\n",
       "      <th>high</th>\n",
       "      <th>low</th>\n",
       "      <th>close</th>\n",
       "      <th>volume</th>\n",
       "      <th>close_time</th>\n",
       "      <th>number_of_trades</th>\n",
       "    </tr>\n",
       "  </thead>\n",
       "  <tbody>\n",
       "    <tr>\n",
       "      <th>0</th>\n",
       "      <td>2022-02-28 00:00</td>\n",
       "      <td>71.5230</td>\n",
       "      <td>71.9810</td>\n",
       "      <td>71.2030</td>\n",
       "      <td>71.7020</td>\n",
       "      <td>363543</td>\n",
       "      <td>2022-02-28 00:14</td>\n",
       "      <td>24761</td>\n",
       "    </tr>\n",
       "    <tr>\n",
       "      <th>1</th>\n",
       "      <td>2022-02-28 00:15</td>\n",
       "      <td>71.7030</td>\n",
       "      <td>71.8010</td>\n",
       "      <td>70.7300</td>\n",
       "      <td>71.1490</td>\n",
       "      <td>492649</td>\n",
       "      <td>2022-02-28 00:29</td>\n",
       "      <td>29666</td>\n",
       "    </tr>\n",
       "    <tr>\n",
       "      <th>2</th>\n",
       "      <td>2022-02-28 00:30</td>\n",
       "      <td>71.1420</td>\n",
       "      <td>71.3940</td>\n",
       "      <td>70.8110</td>\n",
       "      <td>71.3840</td>\n",
       "      <td>222187</td>\n",
       "      <td>2022-02-28 00:44</td>\n",
       "      <td>16788</td>\n",
       "    </tr>\n",
       "    <tr>\n",
       "      <th>3</th>\n",
       "      <td>2022-02-28 00:45</td>\n",
       "      <td>71.3740</td>\n",
       "      <td>71.6070</td>\n",
       "      <td>71.0520</td>\n",
       "      <td>71.1140</td>\n",
       "      <td>180490</td>\n",
       "      <td>2022-02-28 00:59</td>\n",
       "      <td>12992</td>\n",
       "    </tr>\n",
       "    <tr>\n",
       "      <th>4</th>\n",
       "      <td>2022-02-28 01:00</td>\n",
       "      <td>71.1180</td>\n",
       "      <td>71.9590</td>\n",
       "      <td>71.0920</td>\n",
       "      <td>71.6710</td>\n",
       "      <td>230367</td>\n",
       "      <td>2022-02-28 01:14</td>\n",
       "      <td>16814</td>\n",
       "    </tr>\n",
       "  </tbody>\n",
       "</table>\n",
       "</div>"
      ],
      "text/plain": [
       "               time     open     high      low    close  volume  \\\n",
       "0  2022-02-28 00:00  71.5230  71.9810  71.2030  71.7020  363543   \n",
       "1  2022-02-28 00:15  71.7030  71.8010  70.7300  71.1490  492649   \n",
       "2  2022-02-28 00:30  71.1420  71.3940  70.8110  71.3840  222187   \n",
       "3  2022-02-28 00:45  71.3740  71.6070  71.0520  71.1140  180490   \n",
       "4  2022-02-28 01:00  71.1180  71.9590  71.0920  71.6710  230367   \n",
       "\n",
       "         close_time  number_of_trades  \n",
       "0  2022-02-28 00:14             24761  \n",
       "1  2022-02-28 00:29             29666  \n",
       "2  2022-02-28 00:44             16788  \n",
       "3  2022-02-28 00:59             12992  \n",
       "4  2022-02-28 01:14             16814  "
      ]
     },
     "execution_count": 131,
     "metadata": {},
     "output_type": "execute_result"
    }
   ],
   "source": [
    "df.head()"
   ]
  },
  {
   "cell_type": "code",
   "execution_count": 124,
   "metadata": {},
   "outputs": [
    {
     "data": {
      "text/plain": [
       "1646525966083"
      ]
     },
     "execution_count": 124,
     "metadata": {},
     "output_type": "execute_result"
    }
   ],
   "source": [
    "CURRENT_TIME"
   ]
  },
  {
   "cell_type": "code",
   "execution_count": null,
   "metadata": {},
   "outputs": [],
   "source": []
  }
 ],
 "metadata": {
  "interpreter": {
   "hash": "757cb77ed2af1a0edea82e58b27ec51a52e2bff9080ec059dd954dd25751d211"
  },
  "kernelspec": {
   "display_name": "Python 3.8.11 ('base')",
   "language": "python",
   "name": "python3"
  },
  "language_info": {
   "codemirror_mode": {
    "name": "ipython",
    "version": 3
   },
   "file_extension": ".py",
   "mimetype": "text/x-python",
   "name": "python",
   "nbconvert_exporter": "python",
   "pygments_lexer": "ipython3",
   "version": "3.8.11"
  },
  "orig_nbformat": 4
 },
 "nbformat": 4,
 "nbformat_minor": 2
}

{
 "cells": [
  {
   "cell_type": "code",
   "execution_count": 120,
   "metadata": {},
   "outputs": [],
   "source": [
    "import datetime as dt\n",
    "import ccxt\n",
    "\n",
    "API_KEY = \"gjfggEtlnUr0WyMNwViApfABmKYMsnqm3o34QV6iNTWYKV1xVfHn16XUNpoaCYhG\"\n",
    "API_SECRET = \"On6NkNTmf5sPeEpVtIrp2B8uBburwhmJLbOjJZaEh3hc1nuAjPwqMxTPOAb7OSkm\""
   ]
  },
  {
   "cell_type": "code",
   "execution_count": 216,
   "metadata": {},
   "outputs": [
    {
     "name": "stdout",
     "output_type": "stream",
     "text": [
      "CCXT Version: 1.72.29\n",
      "2022-02-05 19:17:27 41723.45 BTC/USDT\n"
     ]
    }
   ],
   "source": [
    "print('CCXT Version:', ccxt.__version__)\n",
    "\n",
    "exchange = ccxt.binance({\n",
    "    'enableRateLimit': True,\n",
    "    \"apiKey\": API_KEY,\n",
    "    \"secret\": API_SECRET,\n",
    "})\n",
    "\n",
    "\n",
    "## you can add a fourth parameter which is the endtime\n",
    "\n",
    "def getActualPrice(symbol):\n",
    "    now = str(dt.datetime.now())[:-7]\n",
    "    timestamp = int(dt.datetime.strptime(now, \"%Y-%m-%d %H:%M:%S\").timestamp() * 1000)\n",
    "    response = exchange.fetch_ohlcv(symbol, '1m',timestamp-70000) # Gets Current Price \n",
    "    print(now,response[0][1],symbol)\n",
    "\n",
    "getActualPrice('BTC/USDT')\n",
    "\n"
   ]
  },
  {
   "cell_type": "code",
   "execution_count": 17,
   "metadata": {},
   "outputs": [
    {
     "ename": "NameError",
     "evalue": "name 'response' is not defined",
     "output_type": "error",
     "traceback": [
      "\u001b[0;31m---------------------------------------------------------------------------\u001b[0m",
      "\u001b[0;31mNameError\u001b[0m                                 Traceback (most recent call last)",
      "\u001b[0;32m/var/folders/rg/lf_3bzks21n5_gpz98zlcnv80000gp/T/ipykernel_9620/1673522831.py\u001b[0m in \u001b[0;36m<module>\u001b[0;34m\u001b[0m\n\u001b[1;32m      1\u001b[0m \u001b[0;31m# Convert epoch to realtime\u001b[0m\u001b[0;34m\u001b[0m\u001b[0;34m\u001b[0m\u001b[0m\n\u001b[0;32m----> 2\u001b[0;31m \u001b[0mprint\u001b[0m\u001b[0;34m(\u001b[0m\u001b[0;34m\"EPOCH:\"\u001b[0m\u001b[0;34m,\u001b[0m\u001b[0mresponse\u001b[0m\u001b[0;34m[\u001b[0m\u001b[0mlen\u001b[0m\u001b[0;34m(\u001b[0m\u001b[0mresponse\u001b[0m\u001b[0;34m)\u001b[0m\u001b[0;34m-\u001b[0m\u001b[0;36m1\u001b[0m\u001b[0;34m]\u001b[0m\u001b[0;34m[\u001b[0m\u001b[0;36m0\u001b[0m\u001b[0;34m]\u001b[0m\u001b[0;34m/\u001b[0m\u001b[0;36m1000\u001b[0m\u001b[0;34m)\u001b[0m\u001b[0;34m\u001b[0m\u001b[0;34m\u001b[0m\u001b[0m\n\u001b[0m\u001b[1;32m      3\u001b[0m \u001b[0mprint\u001b[0m\u001b[0;34m(\u001b[0m\u001b[0;34m\"CONVERTED:\"\u001b[0m\u001b[0;34m,\u001b[0m\u001b[0mdt\u001b[0m\u001b[0;34m.\u001b[0m\u001b[0mdatetime\u001b[0m\u001b[0;34m.\u001b[0m\u001b[0mutcfromtimestamp\u001b[0m\u001b[0;34m(\u001b[0m\u001b[0mresponse\u001b[0m\u001b[0;34m[\u001b[0m\u001b[0mlen\u001b[0m\u001b[0;34m(\u001b[0m\u001b[0mresponse\u001b[0m\u001b[0;34m)\u001b[0m\u001b[0;34m-\u001b[0m\u001b[0;36m1\u001b[0m\u001b[0;34m]\u001b[0m\u001b[0;34m[\u001b[0m\u001b[0;36m0\u001b[0m\u001b[0;34m]\u001b[0m\u001b[0;34m/\u001b[0m\u001b[0;36m1000\u001b[0m\u001b[0;34m)\u001b[0m\u001b[0;34m.\u001b[0m\u001b[0mstrftime\u001b[0m\u001b[0;34m(\u001b[0m\u001b[0;34m'%Y-%m-%d %H:%M:%S'\u001b[0m\u001b[0;34m)\u001b[0m\u001b[0;34m)\u001b[0m\u001b[0;34m\u001b[0m\u001b[0;34m\u001b[0m\u001b[0m\n",
      "\u001b[0;31mNameError\u001b[0m: name 'response' is not defined"
     ]
    }
   ],
   "source": [
    "# Convert epoch to realtime\n",
    "print(\"EPOCH:\",response[len(response)-1][0]/1000)\n",
    "print(\"CONVERTED:\",dt.datetime.utcfromtimestamp(response[len(response)-1][0]/1000).strftime('%Y-%m-%d %H:%M:%S'))"
   ]
  },
  {
   "cell_type": "code",
   "execution_count": null,
   "metadata": {},
   "outputs": [],
   "source": [
    "prices = []\n",
    "for symbol in exchange.markets:\n",
    "    if \"USDT\" in symbol:\n",
    "        response = exchange.fetch_ohlcv(symbol, '1m', timestamp,1) \n",
    "        if len(response) != 0:\n",
    "            \n",
    "            prices.append([symbol,dt.datetime.utcfromtimestamp(response[len(response)-1][0]/1000).strftime('%Y-%m-%d %H:%M:%S'),response[0][1]])\n",
    "            print(symbol,dt.datetime.utcfromtimestamp(response[len(response)-1][0]/1000).strftime('%Y-%m-%d %H:%M:%S'),response[0][1])\n",
    "             # rate limit"
   ]
  },
  {
   "cell_type": "code",
   "execution_count": null,
   "metadata": {},
   "outputs": [],
   "source": [
    "# Get order book\n",
    "import time\n",
    "delay = 2 # seconds\n",
    "for symbol in exchange.markets:\n",
    "    pprint (exchange.fetch_order_book (symbol))\n",
    "    time.sleep (delay) # rate limit"
   ]
  },
  {
   "cell_type": "code",
   "execution_count": 161,
   "metadata": {},
   "outputs": [
    {
     "data": {
      "text/plain": [
       "386"
      ]
     },
     "execution_count": 161,
     "metadata": {},
     "output_type": "execute_result"
    }
   ],
   "source": [
    "# Get all symbols\n",
    "symbols = []\n",
    "for symbol in exchange.markets:\n",
    "    if \"/USDT\" in symbol:\n",
    "        symbols.append(symbol)\n",
    "len(symbols)"
   ]
  },
  {
   "cell_type": "code",
   "execution_count": 112,
   "metadata": {},
   "outputs": [
    {
     "data": {
      "text/plain": [
       "100"
      ]
     },
     "execution_count": 112,
     "metadata": {},
     "output_type": "execute_result"
    }
   ],
   "source": [
    "len(exchange.fetch_order_book('BTC/USDT')['asks'])"
   ]
  },
  {
   "cell_type": "code",
   "execution_count": null,
   "metadata": {},
   "outputs": [],
   "source": [
    "import nest_asyncio\n",
    "nest_asyncio.apply()\n",
    "__import__('IPython').embed()"
   ]
  },
  {
   "cell_type": "code",
   "execution_count": 54,
   "metadata": {},
   "outputs": [
    {
     "name": "stdout",
     "output_type": "stream",
     "text": [
      "     tick_size  taker_commission   strike settlement_period quote_currency  \\\n",
      "16      0.0005            0.0003  50000.0             month            BTC   \n",
      "236     0.0005            0.0003  55000.0             month            BTC   \n",
      "169     0.0005            0.0003  55000.0             month            BTC   \n",
      "94      0.0005            0.0003  60000.0             month            BTC   \n",
      "29      0.0005            0.0003  60000.0             month            BTC   \n",
      "\n",
      "    option_type  min_trade_amount  maker_commission    kind  is_active  \\\n",
      "16          put               0.1            0.0003  option       True   \n",
      "236        call               0.1            0.0003  option       True   \n",
      "169         put               0.1            0.0003  option       True   \n",
      "94         call               0.1            0.0003  option       True   \n",
      "29          put               0.1            0.0003  option       True   \n",
      "\n",
      "         instrument_name  expiration_timestamp  creation_timestamp  \\\n",
      "16   BTC-30DEC22-50000-P         1672387200000       1640764802000   \n",
      "236  BTC-30DEC22-55000-C         1672387200000       1640764802000   \n",
      "169  BTC-30DEC22-55000-P         1672387200000       1640764802000   \n",
      "94   BTC-30DEC22-60000-C         1672387200000       1640764802000   \n",
      "29   BTC-30DEC22-60000-P         1672387200000       1640764802000   \n",
      "\n",
      "     contract_size  block_trade_commission base_currency  \n",
      "16             1.0                 0.00015           BTC  \n",
      "236            1.0                 0.00015           BTC  \n",
      "169            1.0                 0.00015           BTC  \n",
      "94             1.0                 0.00015           BTC  \n",
      "29             1.0                 0.00015           BTC  \n"
     ]
    }
   ],
   "source": [
    "import asyncio\n",
    "import websockets\n",
    "import json\n",
    "import pandas as pd\n",
    "import datetime as dt\n",
    "import time\n",
    "\n",
    "async def call_api(msg):\n",
    "   async with websockets.connect('wss://test.deribit.com/ws/api/v2') as websocket:\n",
    "       await websocket.send(msg)\n",
    "       while websocket.open:\n",
    "           response = await websocket.recv()\n",
    "           return response\n",
    "\n",
    "def async_loop(api, message):\n",
    "    return asyncio.get_event_loop().run_until_complete(api(message))\n",
    "\n",
    "\n",
    "def retrieve_historic_data(start, end, instrument, timeframe):\n",
    "    msg = \\\n",
    "        {\n",
    "            \"jsonrpc\": \"2.0\",\n",
    "            \"id\": 833,\n",
    "            \"method\": \"public/get_tradingview_chart_data\",\n",
    "            \"params\": {\n",
    "                \"instrument_name\": instrument,\n",
    "                \"start_timestamp\": start,\n",
    "                \"end_timestamp\": end,\n",
    "                \"resolution\": timeframe\n",
    "            }\n",
    "        }\n",
    "    resp = async_loop(call_api, json.dumps(msg))\n",
    "\n",
    "    return resp\n",
    "\n",
    "def getInstruments (currency = 'BTC', type = 'option'):\n",
    "    msg = \\\n",
    "    {\n",
    "        \"jsonrpc\" : \"2.0\",\n",
    "        \"id\" : 7617,\n",
    "        \"method\" : \"public/get_instruments\",\n",
    "        \"params\" : {\n",
    "            \"currency\" : currency,\n",
    "            \"kind\" : type,\n",
    "            \"expired\" : False\n",
    "        }\n",
    "    }\n",
    "    resp = async_loop(call_api, json.dumps(msg))\n",
    "\n",
    "    return resp\n",
    "\n",
    "def json_to_dataframe(json_resp):\n",
    "    res = json.loads(json_resp)\n",
    "\n",
    "    df = pd.DataFrame(res['result'])\n",
    "\n",
    "    df['ticks'] = df.ticks / 1000\n",
    "    df['timestamp'] = [dt.datetime.fromtimestamp(date) for date in df.ticks]\n",
    "\n",
    "    return df\n",
    "\n",
    "\n",
    "\n",
    "\n",
    "if __name__ == '__main__':\n",
    "    start = 1604693130000\n",
    "    end = round(time.time() * 1000)\n",
    "    \n",
    "    instrument = \"BTC-PERPETUAL\"\n",
    "    timeframe = '1'\n",
    "\n",
    "    #json_resp = retrieve_historic_data(start, end, instrument, timeframe)\n",
    "\n",
    "    #df = json_to_dataframe(json_resp)\n",
    "    #print(df.tail())\n",
    "\n",
    "    json_resp = getInstruments()\n",
    "    res = json.loads(json_resp)\n",
    "    df = pd.DataFrame(res['result']).sort_values([\"expiration_timestamp\",\"instrument_name\"])\n",
    "    \n",
    "    print(df.tail())\n",
    "\n",
    "\n"
   ]
  },
  {
   "cell_type": "code",
   "execution_count": 52,
   "metadata": {},
   "outputs": [
    {
     "data": {
      "text/plain": [
       "'04-03-2022 05:00:00'"
      ]
     },
     "execution_count": 52,
     "metadata": {},
     "output_type": "execute_result"
    }
   ],
   "source": [
    "time.strftime('%d-%m-%Y %H:%M:%S',time.localtime(1646380800000/1000))"
   ]
  },
  {
   "cell_type": "code",
   "execution_count": null,
   "metadata": {},
   "outputs": [],
   "source": []
  }
 ],
 "metadata": {
  "interpreter": {
   "hash": "0303607826242bccb9428448bc80af4f6290966dd5edca19408a2523c0644261"
  },
  "kernelspec": {
   "display_name": "Python 3.9.7 64-bit ('base': conda)",
   "language": "python",
   "name": "python3"
  },
  "language_info": {
   "codemirror_mode": {
    "name": "ipython",
    "version": 3
   },
   "file_extension": ".py",
   "mimetype": "text/x-python",
   "name": "python",
   "nbconvert_exporter": "python",
   "pygments_lexer": "ipython3",
   "version": "3.9.7"
  },
  "orig_nbformat": 4
 },
 "nbformat": 4,
 "nbformat_minor": 2
}

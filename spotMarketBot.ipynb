{
 "cells": [
  {
   "cell_type": "code",
   "execution_count": 34,
   "metadata": {},
   "outputs": [
    {
     "name": "stdout",
     "output_type": "stream",
     "text": [
      "{'serverTime': 1646869247503}\n"
     ]
    }
   ],
   "source": [
    "from binance.spot import Spot \n",
    "import binanceLib as bapi\n",
    "import time\n",
    "from dotenv import load_dotenv\n",
    "import os\n",
    "\n",
    "load_dotenv()\n",
    "key = os.getenv('key')\n",
    "secret_key = os.getenv('secret')\n",
    "\n",
    "client = Spot()\n",
    "\n",
    "# Get server timestamp\n",
    "print(client.time())\n",
    "\n",
    "# api key/secret are required for user data endpoints\n",
    "client = Spot(key=key, secret=secret_key)"
   ]
  },
  {
   "cell_type": "code",
   "execution_count": 35,
   "metadata": {},
   "outputs": [
    {
     "name": "stdout",
     "output_type": "stream",
     "text": [
      "hola\n",
      "99.148\n",
      "ya hay orden\n"
     ]
    },
    {
     "ename": "KeyboardInterrupt",
     "evalue": "",
     "output_type": "error",
     "traceback": [
      "\u001b[0;31m---------------------------------------------------------------------------\u001b[0m",
      "\u001b[0;31mKeyboardInterrupt\u001b[0m                         Traceback (most recent call last)",
      "\u001b[1;32m/Users/jvera/pythonProjects/marketExploration/spotMarketBot.ipynb Cell 2'\u001b[0m in \u001b[0;36m<module>\u001b[0;34m\u001b[0m\n\u001b[1;32m     <a href='vscode-notebook-cell:/Users/jvera/pythonProjects/marketExploration/spotMarketBot.ipynb#ch0000027?line=50'>51</a>\u001b[0m \u001b[39melse\u001b[39;00m:\n\u001b[1;32m     <a href='vscode-notebook-cell:/Users/jvera/pythonProjects/marketExploration/spotMarketBot.ipynb#ch0000027?line=51'>52</a>\u001b[0m     \u001b[39mprint\u001b[39m(\u001b[39m'\u001b[39m\u001b[39mno hay patron\u001b[39m\u001b[39m'\u001b[39m)    \n\u001b[0;32m---> <a href='vscode-notebook-cell:/Users/jvera/pythonProjects/marketExploration/spotMarketBot.ipynb#ch0000027?line=53'>54</a>\u001b[0m time\u001b[39m.\u001b[39;49msleep(\u001b[39m5\u001b[39;49m)\n",
      "\u001b[0;31mKeyboardInterrupt\u001b[0m: "
     ]
    }
   ],
   "source": [
    "horario = [\":{}:\".format(j) for j in range(10,60)]\n",
    "for j in range(0,10):\n",
    "    horario.append(':{}:'.format(j))\n",
    "\n",
    "params = {\n",
    "    'symbol': 'LUNAUSDT',\n",
    "    'side': 'BUY',\n",
    "    'type': 'LIMIT',\n",
    "    'timeInForce': 'GTC',\n",
    "    'quantity': 1,\n",
    "    'price': 60\n",
    "}\n",
    "\n",
    "params_TP = {\n",
    "    'symbol': 'LUNAUSDT',\n",
    "    'side': 'BUY',\n",
    "    'type': 'TAKE_PROFIT',\n",
    "    'stopPrice': 65,\n",
    "    'timeInForce': 'GTC',\n",
    "    'quantity': 1,\n",
    "    'price': 65\n",
    "}\n",
    "\n",
    "params_TP = {\n",
    "    'symbol': 'LUNAUSDT',\n",
    "    'side': 'BUY',\n",
    "    'type': 'TAKE_PROFIT',\n",
    "    'stopPrice': 65,\n",
    "    'timeInForce': 'GTC',\n",
    "    'quantity': 1,\n",
    "    'price': 65\n",
    "}\n",
    "\n",
    "while True:\n",
    "    CURRENT_TIME = round(time.time() * 1000) \n",
    "    initial_date = CURRENT_TIME - 60000 * 4\n",
    "    open_order = client.get_open_orders()\n",
    "                \n",
    "    last_klines = bapi.dataPipeline('LUNAUSDT','1m',initial_date, CURRENT_TIME)\n",
    "    bapi.rrrTick(last_klines)\n",
    "    print('hola')\n",
    "    print(last_klines.iloc[-1]['close'])\n",
    "#and len(open_order) < 1\n",
    "    if  last_klines.iloc[-1]['rrr'] == 1:\n",
    "        print('NUEVA ORDEN',bapi.epochToDate(CURRENT_TIME))\n",
    "        print(last_klines)\n",
    "        response = client.new_order(**params)\n",
    "        time.sleep(60)\n",
    "    elif len(open_order) > 1:\n",
    "        print('ya hay orden')\n",
    "    else:\n",
    "        print('no hay patron')    \n",
    "\n",
    "    time.sleep(5)"
   ]
  },
  {
   "cell_type": "code",
   "execution_count": null,
   "metadata": {},
   "outputs": [],
   "source": []
  }
 ],
 "metadata": {
  "interpreter": {
   "hash": "757cb77ed2af1a0edea82e58b27ec51a52e2bff9080ec059dd954dd25751d211"
  },
  "kernelspec": {
   "display_name": "Python 3.8.11 ('base')",
   "language": "python",
   "name": "python3"
  },
  "language_info": {
   "codemirror_mode": {
    "name": "ipython",
    "version": 3
   },
   "file_extension": ".py",
   "mimetype": "text/x-python",
   "name": "python",
   "nbconvert_exporter": "python",
   "pygments_lexer": "ipython3",
   "version": "3.8.11"
  },
  "orig_nbformat": 4
 },
 "nbformat": 4,
 "nbformat_minor": 2
}
